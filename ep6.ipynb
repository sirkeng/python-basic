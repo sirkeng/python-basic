{
 "cells": [
  {
   "cell_type": "code",
   "execution_count": 2,
   "id": "00982ad4-e059-457c-8c70-eadfa6a73626",
   "metadata": {},
   "outputs": [
    {
     "name": "stdin",
     "output_type": "stream",
     "text": [
      "Guess a number:  100\n"
     ]
    },
    {
     "name": "stdout",
     "output_type": "stream",
     "text": [
      "You can get the prize only when your guess is right.\n"
     ]
    }
   ],
   "source": [
    "### if statement ###\n",
    "\n",
    "num_list = [10, 20, 30, 40, 50]\n",
    "guess = eval(input('Guess a number: '))\n",
    "if guess in num_list:\n",
    "    print('You guess is right !')\n",
    "print ('You can get the prize only when your guess is right.')"
   ]
  },
  {
   "cell_type": "code",
   "execution_count": 4,
   "id": "5d27d81e-e1ed-4ded-9d3a-6201e457dcc3",
   "metadata": {},
   "outputs": [
    {
     "name": "stdin",
     "output_type": "stream",
     "text": [
      "Guess a number:  100\n"
     ]
    },
    {
     "name": "stdout",
     "output_type": "stream",
     "text": [
      "You guess is wrong !\n",
      "You can get the prize only when your guess is right.\n"
     ]
    }
   ],
   "source": [
    "### if-elese statement ###\n",
    "\n",
    "num_list = [10, 20, 30, 40, 50]\n",
    "guess = eval(input('Guess a number: '))\n",
    "if guess in num_list:\n",
    "    print('You guess is right !')\n",
    "else:\n",
    "    print('You guess is wrong !')\n",
    "print ('You can get the prize only when your guess is right.')"
   ]
  },
  {
   "cell_type": "code",
   "execution_count": 8,
   "id": "1f083c67-c2b8-4ea1-b9de-07257df01272",
   "metadata": {},
   "outputs": [
    {
     "name": "stdin",
     "output_type": "stream",
     "text": [
      "Guess a number:  70\n"
     ]
    },
    {
     "name": "stdout",
     "output_type": "stream",
     "text": [
      "Congratulations, You win our secound prize !\n",
      "You can get the prize only when your guess is right.\n"
     ]
    }
   ],
   "source": [
    "### if-elseif-else statement ###\n",
    "\n",
    "firstPrize_num_list = [10, 20, 30, 40, 50]\n",
    "secoundPrize_num_list = [10, 70, 80, 90, 100]\n",
    "\n",
    "guess = eval(input('Guess a number: '))\n",
    "\n",
    "if guess in firstPrize_num_list:\n",
    "    print('Congratulations, You win our first prize !')\n",
    "elif guess in secoundPrize_num_list:\n",
    "    print('Congratulations, You win our secound prize !')\n",
    "else:\n",
    "    print('Sorry, your guess is wrong...!')\n",
    "    \n",
    "print ('You can get the prize only when your guess is right.')"
   ]
  },
  {
   "cell_type": "code",
   "execution_count": 14,
   "id": "a22dcc25-2367-4bca-b06f-2390387d24aa",
   "metadata": {},
   "outputs": [
    {
     "name": "stdin",
     "output_type": "stream",
     "text": [
      "Guess a number:  300\n"
     ]
    },
    {
     "name": "stdout",
     "output_type": "stream",
     "text": [
      "Your guess is too hight\n",
      "You can get the prize only when your guess is right.\n"
     ]
    }
   ],
   "source": [
    "### Nested if statement ###\n",
    "\n",
    "firstPrize_num_list = [10, 20, 30, 40, 50]\n",
    "secoundPrize_num_list = [60, 70, 80, 90, 100]\n",
    "guess = eval(input('Guess a number: '))\n",
    "if guess < 100:\n",
    "    if guess in firstPrize_num_list:\n",
    "        print('You win our first prize !')\n",
    "    elif guess in secoundPrize_num_list:\n",
    "        print('You win our seound prize !')\n",
    "    else:\n",
    "        print('Sourry, your guess is wrong...')\n",
    "elif guess > 100:\n",
    "    print('Your guess is too hight')\n",
    "else:\n",
    "    print('Sorry, your guess is wrong')\n",
    "print('You can get the prize only when your guess is right.')\n",
    "    "
   ]
  },
  {
   "cell_type": "code",
   "execution_count": 16,
   "id": "2de2e2c9-af80-4fa3-b0aa-4853e0f6aa70",
   "metadata": {},
   "outputs": [
    {
     "name": "stdout",
     "output_type": "stream",
     "text": [
      "*\n",
      "**\n",
      "***\n",
      "****\n",
      "*****\n"
     ]
    }
   ],
   "source": [
    "### Loop with range function ###\n",
    "\n",
    "for i in range (5):\n",
    "    print('*'*(i+1))"
   ]
  },
  {
   "cell_type": "code",
   "execution_count": 25,
   "id": "5801d0cc-6625-417f-9800-366da862b5da",
   "metadata": {},
   "outputs": [
    {
     "name": "stdout",
     "output_type": "stream",
     "text": [
      "It's monday !\n",
      "It's tuesday !\n",
      "It's wendesday !\n",
      "It's thursday !\n",
      "It's friday !\n",
      "It's saturday !\n",
      "It's sunday !\n"
     ]
    }
   ],
   "source": [
    "### Loop with list/tuple ###\n",
    "\n",
    "week = ['monday', 'tuesday', 'wendesday', 'thursday', 'friday', 'saturday', 'sunday']\n",
    "for day in week:\n",
    "    print('It\\'s', day, '!')"
   ]
  },
  {
   "cell_type": "code",
   "execution_count": 18,
   "id": "358f0cd9-705e-4fa0-8991-5dd5301d1599",
   "metadata": {},
   "outputs": [
    {
     "name": "stdout",
     "output_type": "stream",
     "text": [
      "p\n",
      "y\n",
      "t\n",
      "h\n",
      "o\n",
      "n\n"
     ]
    }
   ],
   "source": [
    "### Loop with string ###\n",
    "\n",
    "for letter in 'python':\n",
    "    print(letter)"
   ]
  },
  {
   "cell_type": "code",
   "execution_count": 20,
   "id": "cc9e7586-bc7f-4dd1-86b9-1d190e1d08b9",
   "metadata": {},
   "outputs": [
    {
     "name": "stdin",
     "output_type": "stream",
     "text": [
      "What is the password?:  dfds\n",
      "What is the password?:  232\n",
      "What is the password?:  lock\n",
      "What is the password?:  unlock\n"
     ]
    },
    {
     "name": "stdout",
     "output_type": "stream",
     "text": [
      "Yes, the password is unlock. You may enter.\n"
     ]
    }
   ],
   "source": [
    "### While loop ###\n",
    "user_input = ''\n",
    "while user_input != 'unlock':\n",
    "    user_input = input(('What is the password?: '))\n",
    "print('Yes, the password is ' + user_input + '. You may enter.')"
   ]
  },
  {
   "cell_type": "code",
   "execution_count": 24,
   "id": "b218c352-a03f-4c48-9b98-7dc1830301e0",
   "metadata": {},
   "outputs": [
    {
     "name": "stdout",
     "output_type": "stream",
     "text": [
      "mon is as weekday.\n",
      "tue is as weekday.\n",
      "wen is as weekday.\n",
      "thurs is as weekday.\n",
      "fri is as weekday.\n",
      "These are all weekdays!\n"
     ]
    }
   ],
   "source": [
    "### Break statement ###\n",
    "week = ['mon', 'tue', 'wen', 'thurs', 'fri', 'sat', 'sun']\n",
    "for day in week:\n",
    "    if day == 'sat':\n",
    "        break\n",
    "    print(day, 'is as weekday.')\n",
    "print('These are all weekdays!')"
   ]
  },
  {
   "cell_type": "code",
   "execution_count": 26,
   "id": "eb8491bd-b7f8-4486-b4a4-9d2d0cee19e7",
   "metadata": {},
   "outputs": [
    {
     "name": "stdin",
     "output_type": "stream",
     "text": [
      "What is the password?:  3432\n",
      "What is the password?:  dfsd\n",
      "What is the password?:  password\n",
      "What is the password?:  unlok\n",
      "What is the password?:  unlock\n"
     ]
    },
    {
     "name": "stdout",
     "output_type": "stream",
     "text": [
      "Yes, the password is unlock. You may enter.\n"
     ]
    }
   ],
   "source": [
    "### Infinite loop ###\n",
    "while True:\n",
    "    user_input = input(('What is the password?: '))\n",
    "    if user_input == 'unlock':\n",
    "        break\n",
    "print('Yes, the password is ' + user_input + '. You may enter.')"
   ]
  },
  {
   "cell_type": "code",
   "execution_count": 27,
   "id": "3daa193b-665f-414d-aafb-326782ff5978",
   "metadata": {},
   "outputs": [
    {
     "name": "stdout",
     "output_type": "stream",
     "text": [
      "Today is monday !\n",
      "Today is tuesday !\n",
      "Today is wendesday !\n",
      "Today is thursday !\n",
      "Today is friday !\n",
      "Today is sunday !\n"
     ]
    }
   ],
   "source": [
    "### Continue statement ###\n",
    "week = ['monday', 'tuesday', 'wendesday', 'thursday', 'friday', 'saturday', 'sunday']\n",
    "for day in week:\n",
    "    if day == 'saturday':\n",
    "        continue\n",
    "    print('Today is', day, '!')"
   ]
  },
  {
   "cell_type": "code",
   "execution_count": 28,
   "id": "dbc5a58d-f394-499d-aa63-7c840bb25277",
   "metadata": {},
   "outputs": [
    {
     "name": "stdout",
     "output_type": "stream",
     "text": [
      "Today is saturday !\n",
      "Today is sunday !\n"
     ]
    }
   ],
   "source": [
    "### Pass statement ###\n",
    "weekday = ['monday', 'tuesday', 'wendesday', 'thursday', 'friday']\n",
    "weekend = ['saturday', 'sunday']\n",
    "for i in weekday:\n",
    "    pass\n",
    "for day in weekend:\n",
    "    print('Today is', day, '!')"
   ]
  },
  {
   "cell_type": "code",
   "execution_count": null,
   "id": "756893b3-ee39-42f9-adce-0a8778003ef9",
   "metadata": {},
   "outputs": [],
   "source": []
  }
 ],
 "metadata": {
  "kernelspec": {
   "display_name": "Python 3 (ipykernel)",
   "language": "python",
   "name": "python3"
  },
  "language_info": {
   "codemirror_mode": {
    "name": "ipython",
    "version": 3
   },
   "file_extension": ".py",
   "mimetype": "text/x-python",
   "name": "python",
   "nbconvert_exporter": "python",
   "pygments_lexer": "ipython3",
   "version": "3.11.7"
  }
 },
 "nbformat": 4,
 "nbformat_minor": 5
}
