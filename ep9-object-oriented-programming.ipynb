{
 "cells": [
  {
   "cell_type": "code",
   "execution_count": 1,
   "id": "8c16b920-9114-4613-ad0a-0fb777cf2ffa",
   "metadata": {},
   "outputs": [
    {
     "name": "stdout",
     "output_type": "stream",
     "text": [
      "<class '__main__.BankAccount'>\n"
     ]
    }
   ],
   "source": [
    "### Create an instance from class ###\n",
    "class BankAccount:\n",
    "    pass\n",
    "account = BankAccount()\n",
    "\n",
    "### Check the instance's type ###\n",
    "print(type(account))"
   ]
  },
  {
   "cell_type": "code",
   "execution_count": 2,
   "id": "efdcef0a-6b87-4e9f-b8a2-5666240a781f",
   "metadata": {},
   "outputs": [
    {
     "name": "stdout",
     "output_type": "stream",
     "text": [
      "radius of circle cl: 10\n"
     ]
    }
   ],
   "source": [
    "### Inheritance ###\n",
    "\n",
    "### Parent Class ###\n",
    "class Shape:\n",
    "    def __init__(self):\n",
    "        self.color = 'black'\n",
    "    def get_color(self):\n",
    "        return self.color\n",
    "\n",
    "### Child Class ###\n",
    "class Circle(Shape):\n",
    "    def __init__(self):\n",
    "        super().__init__()\n",
    "        self.radius = 10\n",
    "    def get_radius(self):\n",
    "        return self.radius\n",
    "\n",
    "### Create an instance from Circle class ###\n",
    "cl = Circle()\n",
    "\n",
    "print('radius of circle cl:', cl.get_radius())"
   ]
  },
  {
   "cell_type": "code",
   "execution_count": 3,
   "id": "4632d3ef-4fbd-4b96-90bd-602fb49aa8e3",
   "metadata": {},
   "outputs": [
    {
     "name": "stdout",
     "output_type": "stream",
     "text": [
      "color of circle cl: black\n"
     ]
    }
   ],
   "source": [
    "print('color of circle cl:', cl.get_color())"
   ]
  },
  {
   "cell_type": "code",
   "execution_count": 4,
   "id": "337de143-af7d-4ec3-9315-4eb7ad754b35",
   "metadata": {},
   "outputs": [
    {
     "name": "stdout",
     "output_type": "stream",
     "text": [
      "Color of rectangle S1: black\n"
     ]
    }
   ],
   "source": [
    "### Polymorphise ###\n",
    "\n",
    "### Parent class ###\n",
    "class Shape:\n",
    "    color = 'black'\n",
    "\n",
    "### Child class ###\n",
    "class Rectangle(Shape):\n",
    "    pass\n",
    "\n",
    "### Child class ###\n",
    "class Circle(Shape):\n",
    "    color = 'blue'\n",
    "\n",
    "S1 = Rectangle()\n",
    "print('Color of rectangle S1:', S1.color)"
   ]
  },
  {
   "cell_type": "code",
   "execution_count": 6,
   "id": "b962eb8d-86f4-4db7-9a6c-8d41e2248d4f",
   "metadata": {},
   "outputs": [
    {
     "name": "stdout",
     "output_type": "stream",
     "text": [
      "Color of circle S2: blue\n"
     ]
    }
   ],
   "source": [
    "S2 = Circle()\n",
    "print('Color of circle S2:', S2.color)"
   ]
  },
  {
   "cell_type": "code",
   "execution_count": 11,
   "id": "841dc0bf-6baf-4ac3-925f-d388e8e90a13",
   "metadata": {},
   "outputs": [],
   "source": [
    "### init() method ###\n",
    "\n",
    "class BankAccount:\n",
    "    ### class attribute ###\n",
    "    bankAccountType = 'Saving Account'\n",
    "\n",
    "    #### initializer / constructor ####\n",
    "    def __init__(self, owner, amount = 0):\n",
    "        ### instance attribute ###\n",
    "        self.owner = owner\n",
    "        self.amount = amount\n",
    "\n",
    "### Create an instance of BankAccount class ###\n",
    "account1 = BankAccount('CheeZe')"
   ]
  },
  {
   "cell_type": "code",
   "execution_count": 13,
   "id": "41e98a4e-0d7e-4266-8572-a4188bf29985",
   "metadata": {},
   "outputs": [
    {
     "name": "stdout",
     "output_type": "stream",
     "text": [
      "CheeZe\n",
      "0\n"
     ]
    }
   ],
   "source": [
    "print(account1.owner)\n",
    "print(account1.amount)"
   ]
  },
  {
   "cell_type": "code",
   "execution_count": 15,
   "id": "50ad19eb-17fb-4324-b32f-62e157004e6c",
   "metadata": {},
   "outputs": [
    {
     "data": {
      "text/plain": [
       "'The account of user CheeZe has 0 Baht in total'"
      ]
     },
     "execution_count": 15,
     "metadata": {},
     "output_type": "execute_result"
    }
   ],
   "source": [
    "### str() method ###\n",
    "\n",
    "class BankAccount:\n",
    "    ### class attribute ###\n",
    "    bankAccountType = 'Saving Account'\n",
    "\n",
    "    #### initializer / constructor ####\n",
    "    def __init__(self, owner, amount = 0):\n",
    "        ### instance attribute ###\n",
    "        self.owner = owner\n",
    "        self.amount = amount\n",
    "\n",
    "    def __str__(self):\n",
    "        return 'The account of user {} has {} Baht in total'.format(self.owner, self.amount)\n",
    "\n",
    "### Create an instance of BankAccount class ###\n",
    "account1 = BankAccount('CheeZe')\n",
    "str(account1)"
   ]
  },
  {
   "cell_type": "code",
   "execution_count": null,
   "id": "cea595bf-922a-409b-82fd-182093a1143b",
   "metadata": {},
   "outputs": [],
   "source": []
  }
 ],
 "metadata": {
  "kernelspec": {
   "display_name": "Python 3 (ipykernel)",
   "language": "python",
   "name": "python3"
  },
  "language_info": {
   "codemirror_mode": {
    "name": "ipython",
    "version": 3
   },
   "file_extension": ".py",
   "mimetype": "text/x-python",
   "name": "python",
   "nbconvert_exporter": "python",
   "pygments_lexer": "ipython3",
   "version": "3.11.7"
  }
 },
 "nbformat": 4,
 "nbformat_minor": 5
}
