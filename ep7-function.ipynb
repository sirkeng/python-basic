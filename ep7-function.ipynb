{
 "cells": [
  {
   "cell_type": "code",
   "execution_count": 1,
   "id": "1b1ed397-b252-44fc-b4d5-7f7bc5867c94",
   "metadata": {},
   "outputs": [
    {
     "name": "stdout",
     "output_type": "stream",
     "text": [
      "86.0\n"
     ]
    }
   ],
   "source": [
    "def tempConversion(celsiusTemp):\n",
    "    fahrenheitTemp = (celsiusTemp*9/5)+32\n",
    "    return(fahrenheitTemp)\n",
    "\n",
    "convertedTemp = tempConversion(30)\n",
    "print(convertedTemp)"
   ]
  },
  {
   "cell_type": "code",
   "execution_count": 2,
   "id": "5e65c9e0-df2a-4977-8da1-0ba53b25e9d6",
   "metadata": {},
   "outputs": [
    {
     "name": "stdout",
     "output_type": "stream",
     "text": [
      "global a = 1\n",
      "Inside func1() a = 1\n",
      "global a = 1\n",
      "Inside func2() a = 2\n",
      "global a = 1\n",
      "Inside func3() a = 3\n",
      "global a = 3\n"
     ]
    }
   ],
   "source": [
    "### Clobal variable ###\n",
    "a = 1\n",
    "def func1():\n",
    "    print ('Inside func1() a =', a)\n",
    "\n",
    "def func2():\n",
    "    a = 2\n",
    "    print ('Inside func2() a =', a)\n",
    "\n",
    "def func3():\n",
    "    global a\n",
    "    a = 3\n",
    "    print ('Inside func3() a =', a)\n",
    "\n",
    "#Global scope\n",
    "print ('global a =', a)\n",
    "func1()\n",
    "print ('global a =', a)\n",
    "func2()\n",
    "print ('global a =', a)\n",
    "func3()\n",
    "print ('global a =', a)"
   ]
  },
  {
   "cell_type": "code",
   "execution_count": 7,
   "id": "ad723931-b09f-4c4c-b6d2-392724715fad",
   "metadata": {},
   "outputs": [
    {
     "name": "stdout",
     "output_type": "stream",
     "text": [
      "25\n"
     ]
    }
   ],
   "source": [
    "### Lambda function ###\n",
    "square = lambda y: y*y\n",
    "print(square(5))"
   ]
  },
  {
   "cell_type": "code",
   "execution_count": 8,
   "id": "71d5f5bd-a362-4ef5-b60f-1f67681ae26b",
   "metadata": {},
   "outputs": [
    {
     "name": "stdout",
     "output_type": "stream",
     "text": [
      "[1, 4, 9, 16, 25, 36, 49, 64, 81, 100]\n"
     ]
    }
   ],
   "source": [
    "### Lambda function with map() ###\n",
    "num_list = [1, 2, 3, 4, 5, 6, 7, 8, 9, 10]\n",
    "square_list = map(lambda x: x*x, num_list)\n",
    "print(list(square_list))"
   ]
  },
  {
   "cell_type": "code",
   "execution_count": 12,
   "id": "71ebb9a2-c9a4-4958-8bdb-fbe5b4994e49",
   "metadata": {},
   "outputs": [
    {
     "name": "stdout",
     "output_type": "stream",
     "text": [
      "[]\n"
     ]
    }
   ],
   "source": [
    "### Lambda function with filter() ###\n",
    "num_list = [1, 2, 3, 4, 5, 6, 7, 8, 9, 10]\n",
    "even_num_list = filter(lambda x: (x%2 == 0), num_list)\n",
    "print(list(square_list))"
   ]
  },
  {
   "cell_type": "code",
   "execution_count": null,
   "id": "3972fe56-05ab-4016-9b7a-4b3e1293159f",
   "metadata": {},
   "outputs": [],
   "source": []
  }
 ],
 "metadata": {
  "kernelspec": {
   "display_name": "Python 3 (ipykernel)",
   "language": "python",
   "name": "python3"
  },
  "language_info": {
   "codemirror_mode": {
    "name": "ipython",
    "version": 3
   },
   "file_extension": ".py",
   "mimetype": "text/x-python",
   "name": "python",
   "nbconvert_exporter": "python",
   "pygments_lexer": "ipython3",
   "version": "3.11.7"
  }
 },
 "nbformat": 4,
 "nbformat_minor": 5
}
