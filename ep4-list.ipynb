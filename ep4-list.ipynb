{
 "cells": [
  {
   "cell_type": "code",
   "execution_count": 1,
   "id": "59b13211-02a4-4172-b860-c5a6e0545822",
   "metadata": {},
   "outputs": [
    {
     "data": {
      "text/plain": [
       "'Monday'"
      ]
     },
     "execution_count": 1,
     "metadata": {},
     "output_type": "execute_result"
    }
   ],
   "source": [
    "weekday = ['Monday', 'Tuesday', 'Wednesday', 'Thursday', 'Friday']\n",
    "weekday[0]"
   ]
  },
  {
   "cell_type": "code",
   "execution_count": 3,
   "id": "4743d0b4-24f9-4efe-9fdb-07e04a7ae712",
   "metadata": {},
   "outputs": [
    {
     "data": {
      "text/plain": [
       "8"
      ]
     },
     "execution_count": 3,
     "metadata": {},
     "output_type": "execute_result"
    }
   ],
   "source": [
    "weekday = [1, 'Tuesday', 0.45, 8, 'Friday']\n",
    "weekday[3]"
   ]
  },
  {
   "cell_type": "code",
   "execution_count": 4,
   "id": "4220dbf2-5e61-49fa-93d1-757822eccd8c",
   "metadata": {},
   "outputs": [
    {
     "data": {
      "text/plain": [
       "'Monday'"
      ]
     },
     "execution_count": 4,
     "metadata": {},
     "output_type": "execute_result"
    }
   ],
   "source": [
    "nested_list = ['Monday', [1, 2, 3, 4, 5]]\n",
    "nested_list[0]"
   ]
  },
  {
   "cell_type": "code",
   "execution_count": 5,
   "id": "77b7814e-6a56-4d28-a5e4-ad58bd8918ec",
   "metadata": {},
   "outputs": [
    {
     "data": {
      "text/plain": [
       "[1, 2, 3, 4, 5]"
      ]
     },
     "execution_count": 5,
     "metadata": {},
     "output_type": "execute_result"
    }
   ],
   "source": [
    "nested_list[1]"
   ]
  },
  {
   "cell_type": "code",
   "execution_count": 7,
   "id": "f8300fef-4e07-4b1a-8957-5105445671cb",
   "metadata": {},
   "outputs": [
    {
     "data": {
      "text/plain": [
       "3"
      ]
     },
     "execution_count": 7,
     "metadata": {},
     "output_type": "execute_result"
    }
   ],
   "source": [
    "nested_list[1][2]"
   ]
  },
  {
   "cell_type": "code",
   "execution_count": 8,
   "id": "e41fd20e-7081-4091-88bc-c034f0a5f731",
   "metadata": {},
   "outputs": [
    {
     "data": {
      "text/plain": [
       "'Friday'"
      ]
     },
     "execution_count": 8,
     "metadata": {},
     "output_type": "execute_result"
    }
   ],
   "source": [
    "weekday = ['Monday', 'Tuesday', 'Wednesday', 'Thursday', 'Friday']\n",
    "weekday[-1]"
   ]
  },
  {
   "cell_type": "code",
   "execution_count": 9,
   "id": "c81aaabc-56c7-43eb-a077-81c07187ce8b",
   "metadata": {},
   "outputs": [
    {
     "data": {
      "text/plain": [
       "1"
      ]
     },
     "execution_count": 9,
     "metadata": {},
     "output_type": "execute_result"
    }
   ],
   "source": [
    "weekday = [1, 'Tuesday', 0.45, 8, 'Friday']\n",
    "weekday[-5]"
   ]
  },
  {
   "cell_type": "code",
   "execution_count": 11,
   "id": "6da31b9b-51aa-42e6-a8d4-f97376e2150d",
   "metadata": {},
   "outputs": [
    {
     "data": {
      "text/plain": [
       "['Mon', 'Tue', 'Wed', 'Thu', 'Fri']"
      ]
     },
     "execution_count": 11,
     "metadata": {},
     "output_type": "execute_result"
    }
   ],
   "source": [
    "everyday = ['Mon', 'Tue', 'Wed', 'Thu', 'Fri', 'Sat', 'Sun']\n",
    "everyday[0:5]"
   ]
  },
  {
   "cell_type": "code",
   "execution_count": 12,
   "id": "18a85769-aba8-4c7d-9995-3bdced0c8395",
   "metadata": {},
   "outputs": [
    {
     "data": {
      "text/plain": [
       "['Fri', 'Sat', 'Sun']"
      ]
     },
     "execution_count": 12,
     "metadata": {},
     "output_type": "execute_result"
    }
   ],
   "source": [
    "everyday[4:]"
   ]
  },
  {
   "cell_type": "code",
   "execution_count": 13,
   "id": "61e7f731-7948-4f9b-b81d-bfa71643a072",
   "metadata": {},
   "outputs": [
    {
     "data": {
      "text/plain": [
       "['Mon', 'Tue']"
      ]
     },
     "execution_count": 13,
     "metadata": {},
     "output_type": "execute_result"
    }
   ],
   "source": [
    "everyday[:2]"
   ]
  },
  {
   "cell_type": "code",
   "execution_count": 15,
   "id": "5eded11e-d80b-4d96-80e0-225298ae8277",
   "metadata": {},
   "outputs": [
    {
     "data": {
      "text/plain": [
       "['Mon', 'Tue', 'Wed', 'Thu', 'Fri']"
      ]
     },
     "execution_count": 15,
     "metadata": {},
     "output_type": "execute_result"
    }
   ],
   "source": [
    "everyday[:-2]"
   ]
  },
  {
   "cell_type": "code",
   "execution_count": 16,
   "id": "549df41c-4b33-480a-8a61-a3c5792ae6f0",
   "metadata": {},
   "outputs": [
    {
     "data": {
      "text/plain": [
       "['Mon', 'Tue', 'Wed', 'Thu', 'Fri', 'Sat', 'Sun']"
      ]
     },
     "execution_count": 16,
     "metadata": {},
     "output_type": "execute_result"
    }
   ],
   "source": [
    "everyday[:]"
   ]
  },
  {
   "cell_type": "code",
   "execution_count": 17,
   "id": "31e3292e-956e-4f71-b6e2-a11076290f87",
   "metadata": {},
   "outputs": [
    {
     "name": "stdout",
     "output_type": "stream",
     "text": [
      "[10, 20, 30, 40, 50, 60]\n"
     ]
    }
   ],
   "source": [
    "### append method ###\n",
    "num_list = [10, 20, 30, 40, 50]\n",
    "num_list.append(60)\n",
    "print(num_list)"
   ]
  },
  {
   "cell_type": "code",
   "execution_count": 18,
   "id": "5bf9c6b2-4e41-42b8-9fbc-4da757cc347b",
   "metadata": {},
   "outputs": [
    {
     "name": "stdout",
     "output_type": "stream",
     "text": [
      "[10, 20, 30, 40, 50, 60, 70, 80, 90, 100]\n"
     ]
    }
   ],
   "source": [
    "### extend method ###\n",
    "num_list = [10, 20, 30, 40, 50]\n",
    "num_list.extend([60, 70, 80, 90, 100])\n",
    "print(num_list)"
   ]
  },
  {
   "cell_type": "code",
   "execution_count": 20,
   "id": "101ea0da-d54a-417a-8d59-fac3c33763e6",
   "metadata": {},
   "outputs": [
    {
     "name": "stdout",
     "output_type": "stream",
     "text": [
      "[1, 2, 3, 4, 8, 9, 10]\n"
     ]
    }
   ],
   "source": [
    "### insert method ###\n",
    "num_list = [1, 2, 4, 8, 9, 10]\n",
    "num_list.insert(2, 3)\n",
    "print(num_list)"
   ]
  },
  {
   "cell_type": "code",
   "execution_count": 21,
   "id": "c555d4b0-e14a-47ae-ab03-e113f385fd96",
   "metadata": {},
   "outputs": [
    {
     "name": "stdout",
     "output_type": "stream",
     "text": [
      "[1, 2, 3, 4, 5, 6, 7, 8, 9, 10]\n"
     ]
    }
   ],
   "source": [
    "### insert range of elements to a specific index in a list ###\n",
    "num_list = [1, 2, 3, 4, 8, 9, 10]\n",
    "num_list[4:3] = [5, 6, 7]\n",
    "print(num_list)"
   ]
  },
  {
   "cell_type": "code",
   "execution_count": 22,
   "id": "0b1d2ab1-b0bb-43de-8a2f-265329f5568c",
   "metadata": {},
   "outputs": [
    {
     "name": "stdout",
     "output_type": "stream",
     "text": [
      "[0, 20, 30, 40, 50]\n"
     ]
    }
   ],
   "source": [
    "### Change element ###\n",
    "num_list = [10, 20, 30, 40, 50]\n",
    "num_list[0] = 0\n",
    "print(num_list)"
   ]
  },
  {
   "cell_type": "code",
   "execution_count": 23,
   "id": "5d96357e-4584-4f24-8ed6-520c407cf6a3",
   "metadata": {},
   "outputs": [
    {
     "name": "stdout",
     "output_type": "stream",
     "text": [
      "[0, 1, 2, 40, 50]\n"
     ]
    }
   ],
   "source": [
    "num_list = [10, 20, 30, 40, 50]\n",
    "num_list[0:3] = [0, 1, 2]\n",
    "print(num_list)"
   ]
  },
  {
   "cell_type": "code",
   "execution_count": 24,
   "id": "da395cb8-252b-441a-af4f-fb4bca3d5d48",
   "metadata": {},
   "outputs": [
    {
     "name": "stdout",
     "output_type": "stream",
     "text": [
      "['Mon', 'Tue', 'Wed', 'Thu', 'Fri', 'Sat', 'Sun']\n"
     ]
    }
   ],
   "source": [
    " ### Concatenative List ###\n",
    "weekday = ['Mon', 'Tue', 'Wed', 'Thu', 'Fri']\n",
    "weekend = ['Sat', 'Sun']\n",
    "week = weekday+weekend\n",
    "print(week)"
   ]
  },
  {
   "cell_type": "code",
   "execution_count": 25,
   "id": "31fba2cf-1b55-4429-b703-23e3858ddc1a",
   "metadata": {},
   "outputs": [
    {
     "name": "stdout",
     "output_type": "stream",
     "text": [
      "['Mon', 'Tue', 'Wed', 'Thu', 'Fri', 'Sat', 'Sun']\n"
     ]
    }
   ],
   "source": [
    "week = ['Mon', 'Tue', 'Wed', 'Thu', 'Fri']\n",
    "weekend = ['Sat', 'Sun']\n",
    "week += weekend\n",
    "print(week)"
   ]
  },
  {
   "cell_type": "code",
   "execution_count": 27,
   "id": "34305c34-4a2b-4b82-8864-1f7062b6ff58",
   "metadata": {},
   "outputs": [
    {
     "name": "stdout",
     "output_type": "stream",
     "text": [
      "[1, 2, 3, 4, 5, 1, 2, 3, 4, 5, 1, 2, 3, 4, 5]\n"
     ]
    }
   ],
   "source": [
    "num_list = [1, 2, 3, 4, 5]*3\n",
    "print(num_list)"
   ]
  },
  {
   "cell_type": "code",
   "execution_count": 28,
   "id": "e6bc281a-83a9-4de9-9a36-466be3561ef6",
   "metadata": {},
   "outputs": [
    {
     "name": "stdout",
     "output_type": "stream",
     "text": [
      "[10, 30, 40, 50]\n"
     ]
    }
   ],
   "source": [
    "### remove method ###\n",
    "num_list = [10, 20, 30, 40, 50]\n",
    "num_list.remove(20)\n",
    "print(num_list)"
   ]
  },
  {
   "cell_type": "code",
   "execution_count": 29,
   "id": "8354b6b6-84f2-4ad4-96f1-c2fa437d227e",
   "metadata": {},
   "outputs": [
    {
     "name": "stdout",
     "output_type": "stream",
     "text": [
      "[20, 30, 40, 50]\n"
     ]
    }
   ],
   "source": [
    "### pop method ###\n",
    "num_list = [10, 20, 30, 40, 50]\n",
    "num_list.pop(0)\n",
    "print(num_list)"
   ]
  },
  {
   "cell_type": "code",
   "execution_count": 32,
   "id": "18ae1df6-6993-4909-8276-9e20afd145b4",
   "metadata": {},
   "outputs": [
    {
     "name": "stdout",
     "output_type": "stream",
     "text": [
      "[10, 30, 40, 50]\n"
     ]
    }
   ],
   "source": [
    "### del method ###\n",
    "num_list = [10, 20, 30, 40, 50]\n",
    "del num_list[1]\n",
    "print(num_list)"
   ]
  },
  {
   "cell_type": "code",
   "execution_count": 34,
   "id": "90116f2d-0ad3-4291-92ea-b576db2e3f4e",
   "metadata": {},
   "outputs": [
    {
     "name": "stdout",
     "output_type": "stream",
     "text": [
      "[30, 40, 50]\n"
     ]
    }
   ],
   "source": [
    "num_list = [10, 20, 30, 40, 50]\n",
    "del num_list[0:2]\n",
    "print(num_list)"
   ]
  },
  {
   "cell_type": "code",
   "execution_count": 36,
   "id": "2010be0a-174a-441e-939c-ad99f96887df",
   "metadata": {},
   "outputs": [
    {
     "name": "stdout",
     "output_type": "stream",
     "text": [
      "[]\n"
     ]
    }
   ],
   "source": [
    "num_list = [10, 20, 30, 40, 50]\n",
    "num_list.clear()\n",
    "print(num_list)"
   ]
  },
  {
   "cell_type": "code",
   "execution_count": 49,
   "id": "57949cc5-3765-4e21-b179-05086b5b9340",
   "metadata": {},
   "outputs": [
    {
     "data": {
      "text/plain": [
       "False"
      ]
     },
     "execution_count": 49,
     "metadata": {},
     "output_type": "execute_result"
    }
   ],
   "source": [
    "50 not in num_list"
   ]
  },
  {
   "cell_type": "code",
   "execution_count": 37,
   "id": "aa5ba36e-f1db-4514-8807-67f3ac9d3dcc",
   "metadata": {},
   "outputs": [
    {
     "name": "stdout",
     "output_type": "stream",
     "text": [
      "[]\n"
     ]
    }
   ],
   "source": [
    "num_list = [10, 20, 30, 40, 50]\n",
    "num_list[:] = []\n",
    "print(num_list)"
   ]
  },
  {
   "cell_type": "code",
   "execution_count": 45,
   "id": "8f1ab93d-6b4d-41a3-952c-817c997b9fc1",
   "metadata": {},
   "outputs": [
    {
     "data": {
      "text/plain": [
       "True"
      ]
     },
     "execution_count": 45,
     "metadata": {},
     "output_type": "execute_result"
    }
   ],
   "source": [
    "weekday = ['Mon', 'Tue', 'Wed', 'Thu', 'Fri']\n",
    "'Fri' in weekday"
   ]
  },
  {
   "cell_type": "code",
   "execution_count": 46,
   "id": "a95866a3-877b-441d-bb56-8043e8911075",
   "metadata": {},
   "outputs": [
    {
     "data": {
      "text/plain": [
       "True"
      ]
     },
     "execution_count": 46,
     "metadata": {},
     "output_type": "execute_result"
    }
   ],
   "source": [
    "'Sun' not in weekday"
   ]
  },
  {
   "cell_type": "code",
   "execution_count": null,
   "id": "b5623f51-2aef-4781-9a4d-03cf473988bf",
   "metadata": {},
   "outputs": [],
   "source": []
  }
 ],
 "metadata": {
  "kernelspec": {
   "display_name": "Python 3 (ipykernel)",
   "language": "python",
   "name": "python3"
  },
  "language_info": {
   "codemirror_mode": {
    "name": "ipython",
    "version": 3
   },
   "file_extension": ".py",
   "mimetype": "text/x-python",
   "name": "python",
   "nbconvert_exporter": "python",
   "pygments_lexer": "ipython3",
   "version": "3.11.7"
  }
 },
 "nbformat": 4,
 "nbformat_minor": 5
}
