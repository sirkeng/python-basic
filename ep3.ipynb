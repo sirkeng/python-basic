{
 "cells": [
  {
   "cell_type": "code",
   "execution_count": 1,
   "id": "d96b5aa7-aabe-4c03-ad7e-a78eaa1e3efb",
   "metadata": {},
   "outputs": [
    {
     "data": {
      "text/plain": [
       "True"
      ]
     },
     "execution_count": 1,
     "metadata": {},
     "output_type": "execute_result"
    }
   ],
   "source": [
    "12>4"
   ]
  },
  {
   "cell_type": "code",
   "execution_count": 2,
   "id": "ac782d57-1735-406a-80c6-9268a11c3cb4",
   "metadata": {},
   "outputs": [
    {
     "data": {
      "text/plain": [
       "False"
      ]
     },
     "execution_count": 2,
     "metadata": {},
     "output_type": "execute_result"
    }
   ],
   "source": [
    "a = '12345abc'\n",
    "a.isdigit()"
   ]
  },
  {
   "cell_type": "code",
   "execution_count": 3,
   "id": "c120cbc1-5f6e-4fc8-a46c-276facfe1a74",
   "metadata": {},
   "outputs": [
    {
     "data": {
      "text/plain": [
       "'Hello World'"
      ]
     },
     "execution_count": 3,
     "metadata": {},
     "output_type": "execute_result"
    }
   ],
   "source": [
    "\"Hello World\""
   ]
  },
  {
   "cell_type": "code",
   "execution_count": 4,
   "id": "01ee5b99-0d5a-4c91-a6fc-34d6126eb879",
   "metadata": {},
   "outputs": [
    {
     "data": {
      "text/plain": [
       "'Hello World'"
      ]
     },
     "execution_count": 4,
     "metadata": {},
     "output_type": "execute_result"
    }
   ],
   "source": [
    "'Hello World'"
   ]
  },
  {
   "cell_type": "code",
   "execution_count": 5,
   "id": "b3955475-afbf-417d-b7c2-466a3160189e",
   "metadata": {},
   "outputs": [
    {
     "data": {
      "text/plain": [
       "\"hey,'i miss you'\""
      ]
     },
     "execution_count": 5,
     "metadata": {},
     "output_type": "execute_result"
    }
   ],
   "source": [
    "'hey,\\'i miss you\\''"
   ]
  },
  {
   "cell_type": "code",
   "execution_count": 11,
   "id": "6f72e4a3-78c4-4ea6-b1e7-e182167d8143",
   "metadata": {},
   "outputs": [
    {
     "name": "stdout",
     "output_type": "stream",
     "text": [
      "10\n"
     ]
    }
   ],
   "source": [
    "x = 10\n",
    "print(x)"
   ]
  },
  {
   "cell_type": "code",
   "execution_count": 7,
   "id": "b8af607c-92b4-4eaa-9c0a-8de4602552d9",
   "metadata": {},
   "outputs": [
    {
     "name": "stdout",
     "output_type": "stream",
     "text": [
      "11\n"
     ]
    }
   ],
   "source": [
    "y = 10\n",
    "y += 1\n",
    "print(y)"
   ]
  },
  {
   "cell_type": "code",
   "execution_count": 8,
   "id": "10984174-4378-473e-8b7e-64c821bb358c",
   "metadata": {},
   "outputs": [
    {
     "name": "stdout",
     "output_type": "stream",
     "text": [
      "5\n"
     ]
    }
   ],
   "source": [
    "print(2+3)"
   ]
  },
  {
   "cell_type": "code",
   "execution_count": 12,
   "id": "5a6381cf-8861-4eb8-b9f0-09b1c9eaa5b4",
   "metadata": {},
   "outputs": [
    {
     "name": "stdout",
     "output_type": "stream",
     "text": [
      "The value of x is 10\n"
     ]
    }
   ],
   "source": [
    "print('The value of x is', x)"
   ]
  },
  {
   "cell_type": "code",
   "execution_count": 13,
   "id": "f7da6848-3f33-4fec-891a-02f24c58734e",
   "metadata": {},
   "outputs": [
    {
     "name": "stdin",
     "output_type": "stream",
     "text": [
      "What is your name: SirKenG\n"
     ]
    }
   ],
   "source": [
    "name = input('What is your name:')"
   ]
  },
  {
   "cell_type": "code",
   "execution_count": 14,
   "id": "b26ea000-dc4d-4509-a852-eaa8674b329c",
   "metadata": {},
   "outputs": [
    {
     "name": "stdin",
     "output_type": "stream",
     "text": [
      "What is your age: 34\n"
     ]
    }
   ],
   "source": [
    "age = int(input('What is your age:'))"
   ]
  },
  {
   "cell_type": "code",
   "execution_count": 16,
   "id": "f2cae85f-ed70-4b23-9235-d16e5e7006e8",
   "metadata": {},
   "outputs": [
    {
     "data": {
      "text/plain": [
       "int"
      ]
     },
     "execution_count": 16,
     "metadata": {},
     "output_type": "execute_result"
    }
   ],
   "source": [
    "type(age)"
   ]
  },
  {
   "cell_type": "code",
   "execution_count": 17,
   "id": "3dcdb132-0934-43d0-b838-9ed49b9776be",
   "metadata": {},
   "outputs": [
    {
     "name": "stdin",
     "output_type": "stream",
     "text": [
      "What is your name:  SirKenG\n",
      "What is your height in cm:  176\n",
      "What is your weight in kg:  68\n"
     ]
    },
    {
     "name": "stdout",
     "output_type": "stream",
     "text": [
      "BMI of SirKenG is:  21\n"
     ]
    }
   ],
   "source": [
    "name = input('What is your name: ')\n",
    "height = int(input('What is your height in cm: '))\n",
    "weight = int(input('What is your weight in kg: '))\n",
    "BMI = int(weight/height/height*10000)\n",
    "print('BMI of', name, 'is: ', BMI)"
   ]
  },
  {
   "cell_type": "code",
   "execution_count": null,
   "id": "642d4d0f-2a1c-40cd-932b-95efcce822c5",
   "metadata": {},
   "outputs": [],
   "source": []
  }
 ],
 "metadata": {
  "kernelspec": {
   "display_name": "Python 3 (ipykernel)",
   "language": "python",
   "name": "python3"
  },
  "language_info": {
   "codemirror_mode": {
    "name": "ipython",
    "version": 3
   },
   "file_extension": ".py",
   "mimetype": "text/x-python",
   "name": "python",
   "nbconvert_exporter": "python",
   "pygments_lexer": "ipython3",
   "version": "3.11.7"
  }
 },
 "nbformat": 4,
 "nbformat_minor": 5
}
