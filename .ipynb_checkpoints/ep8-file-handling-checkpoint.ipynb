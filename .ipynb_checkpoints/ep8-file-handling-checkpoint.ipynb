{
 "cells": [
  {
   "cell_type": "code",
   "execution_count": 2,
   "id": "2271e03d-e909-4898-9ad9-da530789a8c1",
   "metadata": {},
   "outputs": [
    {
     "name": "stdout",
     "output_type": "stream",
     "text": [
      "Filename: namelist.txt\n",
      "Opening: w\n",
      "Close or not: None\n"
     ]
    }
   ],
   "source": [
    "### File object Attributes ###\n",
    "myFile = open('namelist.txt', 'w')\n",
    "\n",
    "### Name Attribute ###\n",
    "print ('Filename:', myFile.name)\n",
    "\n",
    "### Mode Attribute ###\n",
    "print ('Opening:', myFile.mode)\n",
    "\n",
    "### Close Attribute ###\n",
    "print ('Close or not:', myFile.close())"
   ]
  },
  {
   "cell_type": "code",
   "execution_count": null,
   "id": "a32aab14-bb08-4f8b-a6c8-db5688963592",
   "metadata": {},
   "outputs": [],
   "source": [
    "### Open file ###\n",
    "myFile = open('mylist.txt', 'r')"
   ]
  },
  {
   "cell_type": "code",
   "execution_count": 3,
   "id": "83113326-6f2b-477e-9c5b-8a02ed103b34",
   "metadata": {},
   "outputs": [
    {
     "name": "stdout",
     "output_type": "stream",
     "text": [
      "Hello, world!, Welcome to Python!\n",
      "Believe me, Python is fun and easy!\n",
      "Let's learn Python!\n"
     ]
    }
   ],
   "source": [
    "### Read file: Read() function ###\n",
    "myFile = open('mylist.txt', 'r')\n",
    "print (myFile.read())"
   ]
  },
  {
   "cell_type": "code",
   "execution_count": 4,
   "id": "1f332021-df9c-4262-b89e-fb69904b4454",
   "metadata": {},
   "outputs": [
    {
     "name": "stdout",
     "output_type": "stream",
     "text": [
      "Hello\n"
     ]
    }
   ],
   "source": [
    "### Read file: Read() function ###\n",
    "myFile = open('mylist.txt', 'r')\n",
    "print (myFile.read(5))"
   ]
  },
  {
   "cell_type": "code",
   "execution_count": 5,
   "id": "b858ab8a-a45b-4c47-a750-f5aa74f9ecb9",
   "metadata": {},
   "outputs": [
    {
     "name": "stdout",
     "output_type": "stream",
     "text": [
      "Hello, world!, Welcome to Python!\n",
      "\n"
     ]
    }
   ],
   "source": [
    "### Read file: Readline() function ###\n",
    "myFile = open('mylist.txt', 'r')\n",
    "print (myFile.readline())"
   ]
  },
  {
   "cell_type": "code",
   "execution_count": 6,
   "id": "cdbcd7f0-0698-4756-85c7-f6d1d7c4cb14",
   "metadata": {},
   "outputs": [
    {
     "name": "stdout",
     "output_type": "stream",
     "text": [
      "Hello, world!, Welco\n"
     ]
    }
   ],
   "source": [
    "### Read file: Readline() function ###\n",
    "myFile = open('mylist.txt', 'r')\n",
    "print (myFile.readline(20))"
   ]
  },
  {
   "cell_type": "code",
   "execution_count": 7,
   "id": "9904c603-ff59-4b6f-a0ff-52078d607886",
   "metadata": {},
   "outputs": [
    {
     "name": "stdout",
     "output_type": "stream",
     "text": [
      "['Hello, world!, Welcome to Python!\\n', 'Believe me, Python is fun and easy!\\n', \"Let's learn Python!\"]\n"
     ]
    }
   ],
   "source": [
    "### Read file: Readlines() function ###\n",
    "myFile = open('mylist.txt', 'r')\n",
    "print (myFile.readlines())"
   ]
  },
  {
   "cell_type": "code",
   "execution_count": 9,
   "id": "3031470a-8a10-44e8-a105-c66e29fd78c5",
   "metadata": {},
   "outputs": [
    {
     "name": "stdout",
     "output_type": "stream",
     "text": [
      "['Hello, world!, Welcome to Python!\\n']\n"
     ]
    }
   ],
   "source": [
    "### Read file: Readlines() function ###\n",
    "myFile = open('mylist.txt', 'r')\n",
    "print (myFile.readlines(20))"
   ]
  },
  {
   "cell_type": "code",
   "execution_count": 11,
   "id": "853263bf-772e-40df-bc4c-704748f85216",
   "metadata": {},
   "outputs": [
    {
     "name": "stdout",
     "output_type": "stream",
     "text": [
      "Hello, world!, Welcome to Python!\n",
      "\n",
      "Believe me, Python is fun and easy!\n",
      "\n",
      "Let's learn Python!\n"
     ]
    }
   ],
   "source": [
    "### Read line by line using while loop ###\n",
    "myFile = open('mylist.txt', 'r')\n",
    "line = myFile.readline()\n",
    "while line:\n",
    "    print(line)\n",
    "    line = myFile.readline()\n",
    "myFile.close()"
   ]
  },
  {
   "cell_type": "code",
   "execution_count": 12,
   "id": "9432535d-d4dc-4cb0-a18f-a8aa32c1ffcf",
   "metadata": {},
   "outputs": [
    {
     "name": "stdout",
     "output_type": "stream",
     "text": [
      "Hello, world!, Welcome to Python!\n",
      "\n",
      "Believe me, Python is fun and easy!\n",
      "\n",
      "Let's learn Python!\n"
     ]
    }
   ],
   "source": [
    "### Read line by line using while loop (iterator) ###\n",
    "myFile = open('mylist.txt', 'r')\n",
    "for line in iter(myFile):\n",
    "    print(line)\n",
    "myFile.close()"
   ]
  },
  {
   "cell_type": "code",
   "execution_count": 13,
   "id": "23c2c82b-9ac5-4d84-84d6-52580784d9e7",
   "metadata": {},
   "outputs": [
    {
     "name": "stdout",
     "output_type": "stream",
     "text": [
      "Hello, world!, Welcome to Python!\n",
      "\n",
      "Believe me, Python is fun and easy!\n",
      "\n",
      "Let's learn Python!\n"
     ]
    }
   ],
   "source": [
    "### Read line by line using with statement ###\n",
    "with open('mylist.txt', 'r') as t_file:\n",
    "    for line in t_file:\n",
    "        print(line)"
   ]
  },
  {
   "cell_type": "code",
   "execution_count": 15,
   "id": "483f5a6b-d014-422f-898f-3c81ff9ebfb3",
   "metadata": {},
   "outputs": [],
   "source": [
    "### Write() function ###\n",
    "### Override the original text ###\n",
    "myFile = open('mylist.txt', 'w')\n",
    "myFile.write('Today, we learn how to handle file!\\n')\n",
    "myFile.close()"
   ]
  },
  {
   "cell_type": "code",
   "execution_count": 16,
   "id": "be9e0e8a-d065-4ae0-9477-721fe8ecc768",
   "metadata": {},
   "outputs": [],
   "source": [
    "### create new file and write text in it ###\n",
    "myFile = open('newFile.txt', 'w')\n",
    "myFile.write('Hello world!')\n",
    "myFile.close()"
   ]
  },
  {
   "cell_type": "code",
   "execution_count": 20,
   "id": "2ad2a2e0-717f-4304-be79-e83d4c3a08f3",
   "metadata": {},
   "outputs": [],
   "source": [
    "### Writelines() function ###\n",
    "myFile = open('myFile.txt', 'w')\n",
    "nameList = ['Alice\\n', 'Barbie\\n', 'Candy\\n', 'Daisy\\n']\n",
    "myFile.writelines(nameList)\n",
    "myFile.close()"
   ]
  },
  {
   "cell_type": "code",
   "execution_count": 21,
   "id": "e4630422-5623-4d94-9c29-e590d3b710e6",
   "metadata": {},
   "outputs": [],
   "source": [
    "### Append to a file using append mode ###\n",
    "myFile = open('myFile.txt', 'a')\n",
    "nameList = ['Elizabeth\\n', 'Franky\\n', 'George\\n', 'Harry\\n']\n",
    "myFile.writelines(nameList)\n",
    "myFile.close()"
   ]
  },
  {
   "cell_type": "code",
   "execution_count": null,
   "id": "efbd0917-93a3-4903-9ee5-3828d129e20d",
   "metadata": {},
   "outputs": [],
   "source": []
  }
 ],
 "metadata": {
  "kernelspec": {
   "display_name": "Python 3 (ipykernel)",
   "language": "python",
   "name": "python3"
  },
  "language_info": {
   "codemirror_mode": {
    "name": "ipython",
    "version": 3
   },
   "file_extension": ".py",
   "mimetype": "text/x-python",
   "name": "python",
   "nbconvert_exporter": "python",
   "pygments_lexer": "ipython3",
   "version": "3.11.7"
  }
 },
 "nbformat": 4,
 "nbformat_minor": 5
}
