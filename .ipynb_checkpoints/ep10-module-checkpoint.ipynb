{
 "cells": [
  {
   "cell_type": "code",
   "execution_count": 1,
   "id": "b6af8fa5-dbd1-4d5a-89f3-64a557ee9d43",
   "metadata": {},
   "outputs": [
    {
     "data": {
      "text/plain": [
       "['__breakpointhook__',\n",
       " '__displayhook__',\n",
       " '__doc__',\n",
       " '__excepthook__',\n",
       " '__interactivehook__',\n",
       " '__loader__',\n",
       " '__name__',\n",
       " '__package__',\n",
       " '__spec__',\n",
       " '__stderr__',\n",
       " '__stdin__',\n",
       " '__stdout__',\n",
       " '__unraisablehook__',\n",
       " '_base_executable',\n",
       " '_clear_type_cache',\n",
       " '_current_exceptions',\n",
       " '_current_frames',\n",
       " '_debugmallocstats',\n",
       " '_framework',\n",
       " '_getframe',\n",
       " '_getquickenedcount',\n",
       " '_git',\n",
       " '_home',\n",
       " '_stdlib_dir',\n",
       " '_xoptions',\n",
       " 'abiflags',\n",
       " 'addaudithook',\n",
       " 'api_version',\n",
       " 'argv',\n",
       " 'audit',\n",
       " 'base_exec_prefix',\n",
       " 'base_prefix',\n",
       " 'breakpointhook',\n",
       " 'builtin_module_names',\n",
       " 'byteorder',\n",
       " 'call_tracing',\n",
       " 'copyright',\n",
       " 'displayhook',\n",
       " 'dont_write_bytecode',\n",
       " 'exc_info',\n",
       " 'excepthook',\n",
       " 'exception',\n",
       " 'exec_prefix',\n",
       " 'executable',\n",
       " 'exit',\n",
       " 'flags',\n",
       " 'float_info',\n",
       " 'float_repr_style',\n",
       " 'get_asyncgen_hooks',\n",
       " 'get_coroutine_origin_tracking_depth',\n",
       " 'get_int_max_str_digits',\n",
       " 'getallocatedblocks',\n",
       " 'getdefaultencoding',\n",
       " 'getdlopenflags',\n",
       " 'getfilesystemencodeerrors',\n",
       " 'getfilesystemencoding',\n",
       " 'getprofile',\n",
       " 'getrecursionlimit',\n",
       " 'getrefcount',\n",
       " 'getsizeof',\n",
       " 'getswitchinterval',\n",
       " 'gettrace',\n",
       " 'hash_info',\n",
       " 'hexversion',\n",
       " 'implementation',\n",
       " 'int_info',\n",
       " 'intern',\n",
       " 'is_finalizing',\n",
       " 'maxsize',\n",
       " 'maxunicode',\n",
       " 'meta_path',\n",
       " 'modules',\n",
       " 'orig_argv',\n",
       " 'path',\n",
       " 'path_hooks',\n",
       " 'path_importer_cache',\n",
       " 'platform',\n",
       " 'platlibdir',\n",
       " 'prefix',\n",
       " 'ps1',\n",
       " 'ps2',\n",
       " 'ps3',\n",
       " 'pycache_prefix',\n",
       " 'set_asyncgen_hooks',\n",
       " 'set_coroutine_origin_tracking_depth',\n",
       " 'set_int_max_str_digits',\n",
       " 'setdlopenflags',\n",
       " 'setprofile',\n",
       " 'setrecursionlimit',\n",
       " 'setswitchinterval',\n",
       " 'settrace',\n",
       " 'stderr',\n",
       " 'stdin',\n",
       " 'stdlib_module_names',\n",
       " 'stdout',\n",
       " 'thread_info',\n",
       " 'unraisablehook',\n",
       " 'version',\n",
       " 'version_info',\n",
       " 'warnoptions']"
      ]
     },
     "execution_count": 1,
     "metadata": {},
     "output_type": "execute_result"
    }
   ],
   "source": [
    "### Peek inside a module ###\n",
    "import sys\n",
    "dir(sys)"
   ]
  },
  {
   "cell_type": "code",
   "execution_count": 5,
   "id": "42e62dfa-41e4-46c4-b3ba-b6a77cd26dfc",
   "metadata": {},
   "outputs": [
    {
     "name": "stdout",
     "output_type": "stream",
     "text": [
      "7\n"
     ]
    }
   ],
   "source": [
    "### import statement ###\n",
    "import random \n",
    "a = random.randint(1, 10)\n",
    "print(a)"
   ]
  },
  {
   "cell_type": "code",
   "execution_count": 7,
   "id": "9a2d2da2-d8ae-4d49-8035-5cec65d0b058",
   "metadata": {},
   "outputs": [
    {
     "name": "stdout",
     "output_type": "stream",
     "text": [
      "4\n"
     ]
    }
   ],
   "source": [
    "### From statement ###\n",
    "from random import randint, choice\n",
    "a = randint(1, 10)\n",
    "list1 = [1, 2, 3, 4, 5]\n",
    "b = choice(list1)\n",
    "print(b)"
   ]
  },
  {
   "cell_type": "code",
   "execution_count": 11,
   "id": "1bd25346-979a-4389-8e82-3f9b67121d2d",
   "metadata": {},
   "outputs": [
    {
     "name": "stdout",
     "output_type": "stream",
     "text": [
      "1\n"
     ]
    }
   ],
   "source": [
    "### Universal from statement ###\n",
    "from random import *\n",
    "a = randint(1, 10)\n",
    "list1 = [1, 2, 3, 4, 5]\n",
    "b = choice(list1)\n",
    "print(b)"
   ]
  },
  {
   "cell_type": "code",
   "execution_count": 12,
   "id": "50550646-9923-415d-9552-e2e3d5df934c",
   "metadata": {},
   "outputs": [
    {
     "name": "stdout",
     "output_type": "stream",
     "text": [
      "2\n"
     ]
    }
   ],
   "source": [
    "### Change module name ###\n",
    "import random as rdom\n",
    "a = rdom.randint(1, 10)\n",
    "print(a)"
   ]
  },
  {
   "cell_type": "code",
   "execution_count": 15,
   "id": "2607de9d-6270-4ad2-aa5d-36a844ecfb96",
   "metadata": {},
   "outputs": [
    {
     "name": "stdout",
     "output_type": "stream",
     "text": [
      "1\n"
     ]
    }
   ],
   "source": [
    "from random import randint as rint\n",
    "a = rint(1, 10)\n",
    "print(a)"
   ]
  },
  {
   "cell_type": "code",
   "execution_count": 16,
   "id": "2b4cfa14-1661-47fb-b892-2ea6a42a4c76",
   "metadata": {},
   "outputs": [
    {
     "name": "stdin",
     "output_type": "stream",
     "text": [
      "Would you like to quit the program? (yes/no) no\n",
      "Would you like to quit the program? (yes/no) yes\n"
     ]
    },
    {
     "ename": "SystemExit",
     "evalue": "",
     "output_type": "error",
     "traceback": [
      "An exception has occurred, use %tb to see the full traceback.\n",
      "\u001b[0;31mSystemExit\u001b[0m\n"
     ]
    },
    {
     "name": "stderr",
     "output_type": "stream",
     "text": [
      "/opt/anaconda3/lib/python3.11/site-packages/IPython/core/interactiveshell.py:3561: UserWarning: To exit: use 'exit', 'quit', or Ctrl-D.\n",
      "  warn(\"To exit: use 'exit', 'quit', or Ctrl-D.\", stacklevel=1)\n"
     ]
    }
   ],
   "source": [
    "### Module: sys ###\n",
    "import sys\n",
    "while True:\n",
    "    answer = input('Would you like to quit the program? (yes/no)')\n",
    "    if answer.lower() == 'yes':\n",
    "        sys.exit()"
   ]
  },
  {
   "cell_type": "code",
   "execution_count": 18,
   "id": "deef7c64-17bd-4746-9c54-554858f97341",
   "metadata": {},
   "outputs": [
    {
     "name": "stdout",
     "output_type": "stream",
     "text": [
      "2\n"
     ]
    }
   ],
   "source": [
    "### randint(x, y) ###\n",
    "import random\n",
    "print (random.randint(1, 10))"
   ]
  },
  {
   "cell_type": "code",
   "execution_count": 22,
   "id": "899bfeca-30a7-4d57-820e-9005037b0c09",
   "metadata": {},
   "outputs": [
    {
     "name": "stdout",
     "output_type": "stream",
     "text": [
      "False\n"
     ]
    }
   ],
   "source": [
    "### choice(list) ###\n",
    "myList = ['orange', 109, False, 10.52, 'blue', 'pink']\n",
    "print(random.choice(myList))"
   ]
  },
  {
   "cell_type": "code",
   "execution_count": 31,
   "id": "d04ff8d8-1dc1-4774-b568-086fd6410039",
   "metadata": {},
   "outputs": [
    {
     "name": "stdout",
     "output_type": "stream",
     "text": [
      "90\n"
     ]
    }
   ],
   "source": [
    "### randrange(x, y, step) ###\n",
    "print (random.randrange(0, 100, 10))"
   ]
  },
  {
   "cell_type": "code",
   "execution_count": 32,
   "id": "7dc8b215-5497-4725-9f06-74fc2784dd28",
   "metadata": {},
   "outputs": [
    {
     "name": "stdout",
     "output_type": "stream",
     "text": [
      "Ceiling value of 24.11 is 25\n"
     ]
    }
   ],
   "source": [
    "### ceil(x) ###\n",
    "import math\n",
    "print('Ceiling value of 24.11 is', math.ceil(24.11))"
   ]
  },
  {
   "cell_type": "code",
   "execution_count": 33,
   "id": "34782b9e-d6f9-4a53-b106-b66cb8136eb0",
   "metadata": {},
   "outputs": [
    {
     "name": "stdout",
     "output_type": "stream",
     "text": [
      "Floor value of 24.11 is 24\n"
     ]
    }
   ],
   "source": [
    "### floor(x) ###\n",
    "print('Floor value of 24.11 is', math.floor(24.11))"
   ]
  },
  {
   "cell_type": "code",
   "execution_count": 34,
   "id": "387bd485-12df-4300-ad9e-277fef37e2a3",
   "metadata": {},
   "outputs": [
    {
     "name": "stdout",
     "output_type": "stream",
     "text": [
      "Squart root value of 100 is 10.0\n"
     ]
    }
   ],
   "source": [
    "### sqrt(x) ###\n",
    "print('Squart root value of 100 is', math.sqrt(100))"
   ]
  },
  {
   "cell_type": "code",
   "execution_count": 35,
   "id": "877d96f5-a0dc-404c-9e16-ddf1724e2892",
   "metadata": {},
   "outputs": [
    {
     "name": "stdout",
     "output_type": "stream",
     "text": [
      "Absolute value of -12.50 is 12.5\n"
     ]
    }
   ],
   "source": [
    "### fabs(x) ###\n",
    "print('Absolute value of -12.50 is', math.fabs(-12.50))"
   ]
  },
  {
   "cell_type": "code",
   "execution_count": 38,
   "id": "435e5b22-4f34-4cbe-83f2-61d3a43cb16a",
   "metadata": {},
   "outputs": [
    {
     "name": "stdin",
     "output_type": "stream",
     "text": [
      "What is your weight(kg):  176\n",
      "What is your height(cm):  68\n"
     ]
    },
    {
     "name": "stdout",
     "output_type": "stream",
     "text": [
      "Your BMI is:  380\n"
     ]
    }
   ],
   "source": [
    "import calculate\n",
    "weight = int(input('What is your weight(kg): '))\n",
    "height = int(input('What is your height(cm): '))\n",
    "print('Your BMI is: ', int(calculate.calculateBMI(weight, height)))"
   ]
  },
  {
   "cell_type": "code",
   "execution_count": null,
   "id": "0d4508e1-d50d-4768-b7e0-2aa4b09fc285",
   "metadata": {},
   "outputs": [],
   "source": []
  }
 ],
 "metadata": {
  "kernelspec": {
   "display_name": "Python 3 (ipykernel)",
   "language": "python",
   "name": "python3"
  },
  "language_info": {
   "codemirror_mode": {
    "name": "ipython",
    "version": 3
   },
   "file_extension": ".py",
   "mimetype": "text/x-python",
   "name": "python",
   "nbconvert_exporter": "python",
   "pygments_lexer": "ipython3",
   "version": "3.11.7"
  }
 },
 "nbformat": 4,
 "nbformat_minor": 5
}
