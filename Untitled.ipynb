{
 "cells": [
  {
   "cell_type": "code",
   "execution_count": 1,
   "id": "87236925-7e45-4ad8-b779-6c36352696f5",
   "metadata": {},
   "outputs": [
    {
     "name": "stdout",
     "output_type": "stream",
     "text": [
      "a# b# c\n"
     ]
    }
   ],
   "source": [
    "print('a', 'b', 'c', sep = '# ')"
   ]
  },
  {
   "cell_type": "code",
   "execution_count": 3,
   "id": "70f198c8-0be3-44ff-88ba-8e81135efaec",
   "metadata": {},
   "outputs": [
    {
     "name": "stdout",
     "output_type": "stream",
     "text": [
      "I Don\t like monday\n"
     ]
    }
   ],
   "source": [
    "a = ('He doesn\\'t like Friday')\n",
    "a = a.replace('doesn\\'t', 'Don\\t')\n",
    "a = a.replace('He', 'I')\n",
    "a = a.replace('Friday', 'monday')\n",
    "print(a)"
   ]
  },
  {
   "cell_type": "code",
   "execution_count": 22,
   "id": "3cc4abba-354d-49d8-8976-e9da32880cd1",
   "metadata": {},
   "outputs": [
    {
     "name": "stdout",
     "output_type": "stream",
     "text": [
      "[0, 1, 3, 5, 2, 4, 6]\n"
     ]
    }
   ],
   "source": [
    "myList = [1,3,5,2,4,6]\n",
    "myList.insert(0,0)\n",
    "print(myList)"
   ]
  },
  {
   "cell_type": "code",
   "execution_count": 23,
   "id": "7dd77341-51e0-482f-b33e-fb5e67e3adea",
   "metadata": {},
   "outputs": [
    {
     "name": "stdout",
     "output_type": "stream",
     "text": [
      "[0, 1, 2, 5, 2, 4, 6]\n"
     ]
    }
   ],
   "source": [
    "myList[0:3] = [0,1,2]\n",
    "print(myList)"
   ]
  },
  {
   "cell_type": "code",
   "execution_count": 24,
   "id": "a5a74f13-6d02-453e-bde7-00dd2cbe6cde",
   "metadata": {},
   "outputs": [
    {
     "name": "stdout",
     "output_type": "stream",
     "text": [
      "[0, 1, 2, 5, 4, 6]\n"
     ]
    }
   ],
   "source": [
    "myList.pop(4)\n",
    "print(myList)"
   ]
  },
  {
   "cell_type": "code",
   "execution_count": 25,
   "id": "df281263-35ed-4ce2-9b45-207a26d1cf74",
   "metadata": {},
   "outputs": [
    {
     "ename": "SyntaxError",
     "evalue": "invalid syntax (1306760193.py, line 2)",
     "output_type": "error",
     "traceback": [
      "\u001b[0;36m  Cell \u001b[0;32mIn[25], line 2\u001b[0;36m\u001b[0m\n\u001b[0;31m    if x > 0 and < 10:\u001b[0m\n\u001b[0m                 ^\u001b[0m\n\u001b[0;31mSyntaxError\u001b[0m\u001b[0;31m:\u001b[0m invalid syntax\n"
     ]
    }
   ],
   "source": [
    "x = 5\n",
    "if x > 0 and < 10:\n",
    "    print('YES !')\n",
    "else:\n",
    "    print('NO !')"
   ]
  },
  {
   "cell_type": "code",
   "execution_count": 27,
   "id": "ab77a6ac-b3a3-4ac9-93dc-be285ee2943f",
   "metadata": {},
   "outputs": [
    {
     "name": "stdout",
     "output_type": "stream",
     "text": [
      "Hello\n"
     ]
    }
   ],
   "source": [
    "foo = 'hello'\n",
    "print(foo.title())"
   ]
  },
  {
   "cell_type": "code",
   "execution_count": 30,
   "id": "7382d7fd-f23d-4a98-8496-9105ed3f681d",
   "metadata": {},
   "outputs": [
    {
     "name": "stdout",
     "output_type": "stream",
     "text": [
      "Active\n"
     ]
    }
   ],
   "source": [
    "class Student:\n",
    "    studentStatus = 'Active'\n",
    "\n",
    "    def __init__(self, name, year):\n",
    "        self.name = name\n",
    "        self.year = year\n",
    "\n",
    "student1 = Student('CheeZe', 4)\n",
    "print(student1.studentStatus)"
   ]
  },
  {
   "cell_type": "code",
   "execution_count": null,
   "id": "63101682-ccbd-4e93-afdc-a51ee7b3d847",
   "metadata": {},
   "outputs": [],
   "source": []
  }
 ],
 "metadata": {
  "kernelspec": {
   "display_name": "Python 3 (ipykernel)",
   "language": "python",
   "name": "python3"
  },
  "language_info": {
   "codemirror_mode": {
    "name": "ipython",
    "version": 3
   },
   "file_extension": ".py",
   "mimetype": "text/x-python",
   "name": "python",
   "nbconvert_exporter": "python",
   "pygments_lexer": "ipython3",
   "version": "3.11.7"
  }
 },
 "nbformat": 4,
 "nbformat_minor": 5
}
